{
  "nbformat": 4,
  "nbformat_minor": 0,
  "metadata": {
    "colab": {
      "provenance": []
    },
    "kernelspec": {
      "name": "python3",
      "display_name": "Python 3"
    },
    "language_info": {
      "name": "python"
    }
  },
  "cells": [
    {
      "cell_type": "code",
      "execution_count": 1,
      "metadata": {
        "colab": {
          "base_uri": "https://localhost:8080/"
        },
        "id": "FTKHsmOSGadX",
        "outputId": "81d575f4-67e8-4385-c65f-b29cb73cbf5c"
      },
      "outputs": [
        {
          "output_type": "stream",
          "name": "stdout",
          "text": [
            "Added: 0, List: [0]\n",
            "Removed: 0, List: []\n",
            "Added: 1, List: [1]\n",
            "Added: 2, List: [1, 2]\n",
            "Removed: 1, List: [2]\n",
            "Added: 3, List: [2, 3]\n",
            "Removed: 2, List: [3]\n",
            "Added: 4, List: [3, 4]\n",
            "Removed: 3, List: [4]\n",
            "Added: 5, List: [4, 5]\n",
            "Removed: 4, List: [5]\n",
            "Added: 6, List: [5, 6]\n",
            "Removed: 5, List: [6]\n",
            "Added: 7, List: [6, 7]\n",
            "Removed: 6, List: [7]\n",
            "Added: 8, List: [7, 8]\n",
            "Removed: 7, List: [8]\n",
            "Removed: 8, List: []\n",
            "Added: 9, List: [9]\n",
            "Final List: [9]\n"
          ]
        }
      ],
      "source": [
        "#Question4- Write a Python program using multithreading where one thread adds numbers to a list, and another\n",
        "\"\"\"thread removes numbers from the list. Implement a mechanism to avoid race conditions using\n",
        "threading.Lock\"\"\"\n",
        "#Answer-\n",
        "import threading\n",
        "import time\n",
        "import random\n",
        "\n",
        "# Shared list and lock\n",
        "shared_list = []\n",
        "lock = threading.Lock()\n",
        "\n",
        "def add_numbers():\n",
        "    for i in range(10):\n",
        "        time.sleep(random.uniform(0.1, 0.5))  # Simulate some delay\n",
        "        with lock:  # Acquire the lock before modifying the list\n",
        "            shared_list.append(i)\n",
        "            print(f\"Added: {i}, List: {shared_list}\")\n",
        "\n",
        "def remove_numbers():\n",
        "    for _ in range(10):\n",
        "        time.sleep(random.uniform(0.1, 0.5))  # Simulate some delay\n",
        "        with lock:  # Acquire the lock before modifying the list\n",
        "            if shared_list:\n",
        "                removed = shared_list.pop(0)  # Remove the first element\n",
        "                print(f\"Removed: {removed}, List: {shared_list}\")\n",
        "\n",
        "# Create threads\n",
        "add_thread = threading.Thread(target=add_numbers)\n",
        "remove_thread = threading.Thread(target=remove_numbers)\n",
        "\n",
        "# Start threads\n",
        "add_thread.start()\n",
        "remove_thread.start()\n",
        "\n",
        "# Wait for both threads to complete\n",
        "add_thread.join()\n",
        "remove_thread.join()\n",
        "\n",
        "print(\"Final List:\", shared_list)\n"
      ]
    },
    {
      "cell_type": "code",
      "source": [
        "#Question7- Create a program that uses a thread pool to calculate the factorial of numbers from 1 to 10 concurrently.Use concurrent.futures.ThreadPoolExecutor to manage the threads.\n",
        "#Answer-\n",
        "import concurrent.futures\n",
        "import math\n",
        "\n",
        "# Function to calculate factorial\n",
        "def calculate_factorial(n):\n",
        "    return math.factorial(n)\n",
        "\n",
        "# Main function to execute the thread pool\n",
        "def main():\n",
        "    # Create a thread pool with a maximum of 5 threads\n",
        "    with concurrent.futures.ThreadPoolExecutor(max_workers=5) as executor:\n",
        "        # List of numbers from 1 to 10\n",
        "        numbers = range(1, 11)\n",
        "\n",
        "        # Submit tasks to the thread pool and collect futures\n",
        "        futures = {executor.submit(calculate_factorial, num): num for num in numbers}\n",
        "\n",
        "        # Retrieve results as they complete\n",
        "        for future in concurrent.futures.as_completed(futures):\n",
        "            num = futures[future]\n",
        "            try:\n",
        "                result = future.result()\n",
        "                print(f\"Factorial of {num} is {result}\")\n",
        "            except Exception as e:\n",
        "                print(f\"Error calculating factorial of {num}: {e}\")\n",
        "\n",
        "if __name__ == \"__main__\":\n",
        "    main()"
      ],
      "metadata": {
        "colab": {
          "base_uri": "https://localhost:8080/"
        },
        "id": "PD-YDFYRG18P",
        "outputId": "a1b717ed-5c80-4c7b-eb8b-1451f949571c"
      },
      "execution_count": 2,
      "outputs": [
        {
          "output_type": "stream",
          "name": "stdout",
          "text": [
            "Factorial of 4 is 24\n",
            "Factorial of 6 is 720\n",
            "Factorial of 9 is 362880\n",
            "Factorial of 1 is 1\n",
            "Factorial of 7 is 5040\n",
            "Factorial of 2 is 2\n",
            "Factorial of 5 is 120\n",
            "Factorial of 8 is 40320\n",
            "Factorial of 10 is 3628800\n",
            "Factorial of 3 is 6\n"
          ]
        }
      ]
    },
    {
      "cell_type": "code",
      "source": [
        "#Question8-Create a Python program that uses multiprocessing.Pool to compute the square of numbers from 1 to 10 in parallel. Measure the time taken to perform this computation using a pool of different sizes (e.g., 2, 4, 8 processes).\n",
        "#Answer-\n",
        "import multiprocessing\n",
        "import time\n",
        "\n",
        "# Function to compute the square of a number\n",
        "def square(n):\n",
        "    return n * n\n",
        "\n",
        "# Main function to execute the pool and measure time\n",
        "def main(pool_size):\n",
        "    numbers = range(1, 11)  # Numbers from 1 to 10\n",
        "\n",
        "    # Create a pool of processes\n",
        "    with multiprocessing.Pool(processes=pool_size) as pool:\n",
        "        start_time = time.time()  # Start time measurement\n",
        "        results = pool.map(square, numbers)  # Compute squares in parallel\n",
        "        end_time = time.time()  # End time measurement\n",
        "\n",
        "    print(f\"Pool Size: {pool_size}, Results: {results}, Time Taken: {end_time - start_time:.4f} seconds\")\n",
        "\n",
        "if __name__ == \"__main__\":\n",
        "    # Test with different pool sizes\n",
        "    for size in [2, 4, 8]:\n",
        "        main(size)"
      ],
      "metadata": {
        "colab": {
          "base_uri": "https://localhost:8080/"
        },
        "id": "XNaF5BSDHFYH",
        "outputId": "c848f6a3-498b-4b54-cd3c-b833a625034f"
      },
      "execution_count": 3,
      "outputs": [
        {
          "output_type": "stream",
          "name": "stdout",
          "text": [
            "Pool Size: 2, Results: [1, 4, 9, 16, 25, 36, 49, 64, 81, 100], Time Taken: 0.0023 seconds\n",
            "Pool Size: 4, Results: [1, 4, 9, 16, 25, 36, 49, 64, 81, 100], Time Taken: 0.0055 seconds\n",
            "Pool Size: 8, Results: [1, 4, 9, 16, 25, 36, 49, 64, 81, 100], Time Taken: 0.0032 seconds\n"
          ]
        }
      ]
    }
  ]
}